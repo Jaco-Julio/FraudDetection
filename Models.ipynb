{
 "cells": [
  {
   "cell_type": "code",
   "execution_count": 15,
   "metadata": {},
   "outputs": [],
   "source": [
    "import numpy as np\n",
    "import pandas as pd\n",
    "from sklearn.metrics import classification_report\n",
    "from sklearn.model_selection import cross_val_score\n",
    "from sklearn.ensemble import AdaBoostClassifier\n",
    "from sklearn.linear_model import BayesianRidge\n",
    "from sklearn.linear_model import LogisticRegression\n",
    "from sklearn.ensemble import RandomForestClassifier\n",
    "from sklearn.neighbors import KNeighborsClassifier\n",
    "from sklearn.model_selection import cross_val_predict\n",
    "import warnings\n",
    "warnings.filterwarnings('ignore')\n"
   ]
  },
  {
   "cell_type": "code",
   "execution_count": 16,
   "metadata": {},
   "outputs": [],
   "source": [
    "X_train = np.load('/home/jaco/Downloads/creditcardfraud/np_X_train.npy')\n",
    "X_test = np.load('/home/jaco/Downloads/creditcardfraud/np_X_test.npy')\n",
    "X_train_balanced = np.load('/home/jaco/Downloads/creditcardfraud/np_X_train_balanced.npy')\n",
    "Y_train = np.load('/home/jaco/Downloads/creditcardfraud/np_Y_train.npy')\n",
    "Y_test = np.load('/home/jaco/Downloads/creditcardfraud/np_Y_test.npy')\n",
    "Y_train_balanced = np.load('/home/jaco/Downloads/creditcardfraud/np_Y_train_balanced.npy')\n",
    "X_train_balanced42 = np.load('/home/jaco/Downloads/creditcardfraud/np_X_train_balanced42.npy')\n",
    "Y_train_balanced42 = np.load('/home/jaco/Downloads/creditcardfraud/np_Y_train_balanced42.npy')\n",
    "X_train_balanced2 = np.load('/home/jaco/Downloads/creditcardfraud/np_X_train_balanced2.npy')\n",
    "Y_train_balanced2 = np.load('/home/jaco/Downloads/creditcardfraud/np_Y_train_balanced2.npy')"
   ]
  },
  {
   "cell_type": "code",
   "execution_count": 17,
   "metadata": {},
   "outputs": [],
   "source": [
    "Classifiers = {\n",
    "    \"Logistic Regression\": LogisticRegression(),\n",
    "    \"Ada Boost\": AdaBoostClassifier(),\n",
    "    \"Random Forest\": RandomForestClassifier(),\n",
    "    \"KNN\": KNeighborsClassifier()\n",
    "}"
   ]
  },
  {
   "cell_type": "code",
   "execution_count": 18,
   "metadata": {},
   "outputs": [
    {
     "name": "stdout",
     "output_type": "stream",
     "text": [
      "Classifier:  LogisticRegression : 99.89%\n",
      "Classifier:  AdaBoostClassifier : 99.92%\n",
      "Classifier:  RandomForestClassifier : 99.95%\n",
      "Classifier:  KNeighborsClassifier : 99.83%\n"
     ]
    }
   ],
   "source": [
    "for key, classifier in Classifiers.items():\n",
    "    classifier.fit(X_train, Y_train)\n",
    "    Score = cross_val_score(classifier, X_train, Y_train)\n",
    "    print('Classifier: ', classifier.__class__.__name__, ': {:.2f}%'.format(round(Score.mean()*100, 2)))"
   ]
  },
  {
   "cell_type": "code",
   "execution_count": 19,
   "metadata": {},
   "outputs": [
    {
     "name": "stdout",
     "output_type": "stream",
     "text": [
      "Classifier:  LogisticRegression : 97.07%\n",
      "Classifier:  AdaBoostClassifier : 98.45%\n",
      "Classifier:  RandomForestClassifier : 99.98%\n",
      "Classifier:  KNeighborsClassifier : 94.79%\n"
     ]
    }
   ],
   "source": [
    "for key, classifier in Classifiers.items():\n",
    "    classifier.fit(X_train_balanced, Y_train_balanced)\n",
    "    Score = cross_val_score(classifier, X_train_balanced, Y_train_balanced)\n",
    "    print('Classifier: ', classifier.__class__.__name__, ': {:.2f}%'.format(round(Score.mean()*100, 2)))"
   ]
  },
  {
   "cell_type": "code",
   "execution_count": 20,
   "metadata": {},
   "outputs": [
    {
     "name": "stdout",
     "output_type": "stream",
     "text": [
      "Classifier:  LogisticRegression : 97.18%\n",
      "Classifier:  AdaBoostClassifier : 98.49%\n",
      "Classifier:  RandomForestClassifier : 99.98%\n",
      "Classifier:  KNeighborsClassifier : 94.78%\n"
     ]
    }
   ],
   "source": [
    "for key, classifier in Classifiers.items():\n",
    "    classifier.fit(X_train_balanced42, Y_train_balanced42)\n",
    "    Score = cross_val_score(classifier, X_train_balanced42, Y_train_balanced42)\n",
    "    print('Classifier: ', classifier.__class__.__name__, ': {:.2f}%'.format(round(Score.mean()*100, 2)))"
   ]
  },
  {
   "cell_type": "code",
   "execution_count": 21,
   "metadata": {},
   "outputs": [
    {
     "name": "stdout",
     "output_type": "stream",
     "text": [
      "Classifier:  LogisticRegression : 96.55%\n",
      "Classifier:  AdaBoostClassifier : 98.50%\n",
      "Classifier:  RandomForestClassifier : 99.98%\n",
      "Classifier:  KNeighborsClassifier : 94.78%\n"
     ]
    }
   ],
   "source": [
    "for key, classifier in Classifiers.items():\n",
    "    classifier.fit(X_train_balanced2, Y_train_balanced2)\n",
    "    Score = cross_val_score(classifier, X_train_balanced2, Y_train_balanced2)\n",
    "    print('Classifier: ', classifier.__class__.__name__, ': {:.2f}%'.format(round(Score.mean()*100, 2)))"
   ]
  },
  {
   "cell_type": "code",
   "execution_count": 32,
   "metadata": {},
   "outputs": [],
   "source": [
    "from sklearn.metrics import confusion_matrix"
   ]
  },
  {
   "cell_type": "code",
   "execution_count": 34,
   "metadata": {},
   "outputs": [
    {
     "name": "stdout",
     "output_type": "stream",
     "text": [
      "Classifier:  LogisticRegression \n",
      "               precision    recall  f1-score   support\n",
      "\n",
      "         0.0       1.00      0.99      0.99     85308\n",
      "         1.0       0.09      0.84      0.16       135\n",
      "\n",
      "    accuracy                           0.99     85443\n",
      "   macro avg       0.54      0.92      0.58     85443\n",
      "weighted avg       1.00      0.99      0.99     85443\n",
      "\n",
      "Confusion Matrix:  LogisticRegression \n",
      " [[84154  1154]\n",
      " [   21   114]]\n",
      "Classifier:  AdaBoostClassifier \n",
      "               precision    recall  f1-score   support\n",
      "\n",
      "         0.0       1.00      0.99      1.00     85308\n",
      "         1.0       0.13      0.84      0.22       135\n",
      "\n",
      "    accuracy                           0.99     85443\n",
      "   macro avg       0.56      0.92      0.61     85443\n",
      "weighted avg       1.00      0.99      0.99     85443\n",
      "\n",
      "Confusion Matrix:  AdaBoostClassifier \n",
      " [[84539   769]\n",
      " [   21   114]]\n",
      "Classifier:  RandomForestClassifier \n",
      "               precision    recall  f1-score   support\n",
      "\n",
      "         0.0       1.00      1.00      1.00     85308\n",
      "         1.0       0.86      0.79      0.82       135\n",
      "\n",
      "    accuracy                           1.00     85443\n",
      "   macro avg       0.93      0.90      0.91     85443\n",
      "weighted avg       1.00      1.00      1.00     85443\n",
      "\n",
      "Confusion Matrix:  RandomForestClassifier \n",
      " [[85290    18]\n",
      " [   28   107]]\n",
      "Classifier:  KNeighborsClassifier \n",
      "               precision    recall  f1-score   support\n",
      "\n",
      "         0.0       1.00      0.94      0.97     85308\n",
      "         1.0       0.01      0.43      0.02       135\n",
      "\n",
      "    accuracy                           0.94     85443\n",
      "   macro avg       0.51      0.69      0.50     85443\n",
      "weighted avg       1.00      0.94      0.97     85443\n",
      "\n",
      "Confusion Matrix:  KNeighborsClassifier \n",
      " [[80584  4724]\n",
      " [   77    58]]\n"
     ]
    }
   ],
   "source": [
    "for key, classifier in Classifiers.items():\n",
    "    classifier_fitted = classifier.fit(X_train_balanced, Y_train_balanced.ravel())\n",
    "    y_pred = classifier_fitted.predict(X_test)\n",
    "    print('Classifier: ', classifier.__class__.__name__,'\\n', classification_report(Y_test, y_pred))\n",
    "    print('Confusion Matrix: ', classifier.__class__.__name__,'\\n', confusion_matrix(Y_test, y_pred))"
   ]
  },
  {
   "cell_type": "code",
   "execution_count": 35,
   "metadata": {},
   "outputs": [
    {
     "name": "stdout",
     "output_type": "stream",
     "text": [
      "Classifier:  LogisticRegression \n",
      "               precision    recall  f1-score   support\n",
      "\n",
      "         0.0       1.00      0.99      0.99     85308\n",
      "         1.0       0.09      0.84      0.16       135\n",
      "\n",
      "    accuracy                           0.99     85443\n",
      "   macro avg       0.55      0.91      0.58     85443\n",
      "weighted avg       1.00      0.99      0.99     85443\n",
      "\n",
      "Confusion Matrix:  LogisticRegression \n",
      " [[84172  1136]\n",
      " [   22   113]]\n",
      "Classifier:  AdaBoostClassifier \n",
      "               precision    recall  f1-score   support\n",
      "\n",
      "         0.0       1.00      0.99      0.99     85308\n",
      "         1.0       0.12      0.84      0.20       135\n",
      "\n",
      "    accuracy                           0.99     85443\n",
      "   macro avg       0.56      0.91      0.60     85443\n",
      "weighted avg       1.00      0.99      0.99     85443\n",
      "\n",
      "Confusion Matrix:  AdaBoostClassifier \n",
      " [[84453   855]\n",
      " [   22   113]]\n",
      "Classifier:  RandomForestClassifier \n",
      "               precision    recall  f1-score   support\n",
      "\n",
      "         0.0       1.00      1.00      1.00     85308\n",
      "         1.0       0.83      0.80      0.82       135\n",
      "\n",
      "    accuracy                           1.00     85443\n",
      "   macro avg       0.92      0.90      0.91     85443\n",
      "weighted avg       1.00      1.00      1.00     85443\n",
      "\n",
      "Confusion Matrix:  RandomForestClassifier \n",
      " [[85286    22]\n",
      " [   27   108]]\n",
      "Classifier:  KNeighborsClassifier \n",
      "               precision    recall  f1-score   support\n",
      "\n",
      "         0.0       1.00      0.94      0.97     85308\n",
      "         1.0       0.01      0.44      0.02       135\n",
      "\n",
      "    accuracy                           0.94     85443\n",
      "   macro avg       0.51      0.69      0.50     85443\n",
      "weighted avg       1.00      0.94      0.97     85443\n",
      "\n",
      "Confusion Matrix:  KNeighborsClassifier \n",
      " [[80603  4705]\n",
      " [   76    59]]\n"
     ]
    }
   ],
   "source": [
    "for key, classifier in Classifiers.items():\n",
    "    classifier_fitted = classifier.fit(X_train_balanced42, Y_train_balanced42.ravel())\n",
    "    y_pred = classifier_fitted.predict(X_test)\n",
    "    print('Classifier: ', classifier.__class__.__name__,'\\n', classification_report(Y_test, y_pred))\n",
    "    print('Confusion Matrix: ', classifier.__class__.__name__,'\\n', confusion_matrix(Y_test, y_pred))"
   ]
  },
  {
   "cell_type": "code",
   "execution_count": 36,
   "metadata": {},
   "outputs": [
    {
     "name": "stdout",
     "output_type": "stream",
     "text": [
      "Classifier:  LogisticRegression \n",
      "               precision    recall  f1-score   support\n",
      "\n",
      "         0.0       1.00      0.99      0.99     85308\n",
      "         1.0       0.09      0.84      0.16       135\n",
      "\n",
      "    accuracy                           0.99     85443\n",
      "   macro avg       0.54      0.91      0.58     85443\n",
      "weighted avg       1.00      0.99      0.99     85443\n",
      "\n",
      "Confusion Matrix:  LogisticRegression \n",
      " [[84169  1139]\n",
      " [   22   113]]\n",
      "Classifier:  AdaBoostClassifier \n",
      "               precision    recall  f1-score   support\n",
      "\n",
      "         0.0       1.00      0.99      0.99     85308\n",
      "         1.0       0.11      0.85      0.20       135\n",
      "\n",
      "    accuracy                           0.99     85443\n",
      "   macro avg       0.55      0.92      0.59     85443\n",
      "weighted avg       1.00      0.99      0.99     85443\n",
      "\n",
      "Confusion Matrix:  AdaBoostClassifier \n",
      " [[84379   929]\n",
      " [   20   115]]\n",
      "Classifier:  RandomForestClassifier \n",
      "               precision    recall  f1-score   support\n",
      "\n",
      "         0.0       1.00      1.00      1.00     85308\n",
      "         1.0       0.85      0.79      0.82       135\n",
      "\n",
      "    accuracy                           1.00     85443\n",
      "   macro avg       0.93      0.89      0.91     85443\n",
      "weighted avg       1.00      1.00      1.00     85443\n",
      "\n",
      "Confusion Matrix:  RandomForestClassifier \n",
      " [[85290    18]\n",
      " [   29   106]]\n",
      "Classifier:  KNeighborsClassifier \n",
      "               precision    recall  f1-score   support\n",
      "\n",
      "         0.0       1.00      0.94      0.97     85308\n",
      "         1.0       0.01      0.42      0.02       135\n",
      "\n",
      "    accuracy                           0.94     85443\n",
      "   macro avg       0.51      0.68      0.50     85443\n",
      "weighted avg       1.00      0.94      0.97     85443\n",
      "\n",
      "Confusion Matrix:  KNeighborsClassifier \n",
      " [[80590  4718]\n",
      " [   78    57]]\n"
     ]
    }
   ],
   "source": [
    "for key, classifier in Classifiers.items():\n",
    "    classifier_fitted = classifier.fit(X_train_balanced2, Y_train_balanced2.ravel())\n",
    "    y_pred = classifier_fitted.predict(X_test)\n",
    "    print('Classifier: ', classifier.__class__.__name__,'\\n', classification_report(Y_test, y_pred))\n",
    "    print('Confusion Matrix: ', classifier.__class__.__name__,'\\n', confusion_matrix(Y_test, y_pred))"
   ]
  }
 ],
 "metadata": {
  "kernelspec": {
   "display_name": "Python 3",
   "language": "python",
   "name": "python3"
  },
  "language_info": {
   "codemirror_mode": {
    "name": "ipython",
    "version": 3
   },
   "file_extension": ".py",
   "mimetype": "text/x-python",
   "name": "python",
   "nbconvert_exporter": "python",
   "pygments_lexer": "ipython3",
   "version": "3.7.4"
  }
 },
 "nbformat": 4,
 "nbformat_minor": 2
}
