{
 "cells": [
  {
   "cell_type": "code",
   "execution_count": 2,
   "metadata": {},
   "outputs": [],
   "source": [
    "import numpy as np\n",
    "import pandas as pd\n",
    "from sklearn.metrics import classification_report\n",
    "from sklearn.model_selection import cross_val_score\n",
    "from sklearn.ensemble import AdaBoostClassifier\n",
    "from sklearn.linear_model import BayesianRidge\n",
    "from sklearn.linear_model import LogisticRegression\n",
    "from sklearn.ensemble import RandomForestClassifier\n",
    "from sklearn.neighbors import KNeighborsClassifier\n",
    "from sklearn.model_selection import cross_val_predict\n",
    "from sklearn.metrics import roc_auc_score\n",
    "import seaborn as sns\n",
    "import matplotlib.pyplot as plt\n",
    "import warnings\n",
    "warnings.filterwarnings('ignore')\n"
   ]
  },
  {
   "cell_type": "code",
   "execution_count": 3,
   "metadata": {},
   "outputs": [],
   "source": [
    "# Loading the training sets and the test set \n",
    "X_train = np.load('~/creditcardfraud/np_X_train.npy')\n",
    "X_test = np.load('~/creditcardfraud/np_X_test.npy')\n",
    "X_train_balanced = np.load('~/creditcardfraud/np_X_train_balanced.npy')\n",
    "Y_train = np.load('~/creditcardfraud/np_Y_train.npy')\n",
    "Y_test = np.load('~/creditcardfraud/np_Y_test.npy')\n",
    "Y_train_balanced = np.load('~/creditcardfraud/np_Y_train_balanced.npy')\n",
    "X_train_balanced42 = np.load('~/creditcardfraud/np_X_train_balanced42.npy')\n",
    "Y_train_balanced42 = np.load('~/creditcardfraud/np_Y_train_balanced42.npy')\n",
    "X_train_balanced2 = np.load('~/creditcardfraud/np_X_train_balanced2.npy')\n",
    "Y_train_balanced2 = np.load('~/creditcardfraud/np_Y_train_balanced2.npy')"
   ]
  },
  {
   "cell_type": "code",
   "execution_count": 4,
   "metadata": {},
   "outputs": [],
   "source": [
    "# Assigning the classifiers\n",
    "Classifiers = {\n",
    "    \"Logistic Regression\": LogisticRegression(),\n",
    "    \"Ada Boost\": AdaBoostClassifier(),\n",
    "    \"Random Forest\": RandomForestClassifier(),\n",
    "    \"KNN\": KNeighborsClassifier()\n",
    "}"
   ]
  },
  {
   "cell_type": "code",
   "execution_count": 4,
   "metadata": {},
   "outputs": [
    {
     "name": "stdout",
     "output_type": "stream",
     "text": [
      "Classifier:  LogisticRegression : 99.89%\n",
      "Classifier:  AdaBoostClassifier : 99.92%\n",
      "Classifier:  RandomForestClassifier : 99.95%\n",
      "Classifier:  KNeighborsClassifier : 99.83%\n"
     ]
    }
   ],
   "source": [
    "# Evaluating the accuracy of classifiers with cross fold validation - Overfitting\n",
    "for key, classifier in Classifiers.items():\n",
    "    classifier.fit(X_train, Y_train)\n",
    "    Score = cross_val_score(classifier, X_train, Y_train)\n",
    "    print('Classifier: ', classifier.__class__.__name__, ': {:.2f}%'.format(round(Score.mean()*100, 2)))"
   ]
  },
  {
   "cell_type": "code",
   "execution_count": 5,
   "metadata": {},
   "outputs": [
    {
     "name": "stdout",
     "output_type": "stream",
     "text": [
      "Classifier:  LogisticRegression : 97.26%\n",
      "Classifier:  AdaBoostClassifier : 98.49%\n",
      "Classifier:  RandomForestClassifier : 99.98%\n",
      "Classifier:  KNeighborsClassifier : 94.78%\n"
     ]
    }
   ],
   "source": [
    "# Evaluating the accuracy of classifiers with cross fold validation\n",
    "for key, classifier in Classifiers.items():\n",
    "    classifier.fit(X_train_balanced, Y_train_balanced)\n",
    "    Score = cross_val_score(classifier, X_train_balanced, Y_train_balanced)\n",
    "    print('Classifier: ', classifier.__class__.__name__, ': {:.2f}%'.format(round(Score.mean()*100, 2)))"
   ]
  },
  {
   "cell_type": "code",
   "execution_count": 6,
   "metadata": {},
   "outputs": [
    {
     "name": "stdout",
     "output_type": "stream",
     "text": [
      "Classifier:  LogisticRegression : 97.18%\n",
      "Classifier:  AdaBoostClassifier : 98.49%\n",
      "Classifier:  RandomForestClassifier : 99.98%\n",
      "Classifier:  KNeighborsClassifier : 94.78%\n"
     ]
    }
   ],
   "source": [
    "# Evaluating the accuracy of classifiers with cross fold validation - Different dataset \n",
    "for key, classifier in Classifiers.items():\n",
    "    classifier.fit(X_train_balanced42, Y_train_balanced42)\n",
    "    Score = cross_val_score(classifier, X_train_balanced42, Y_train_balanced42)\n",
    "    print('Classifier: ', classifier.__class__.__name__, ': {:.2f}%'.format(round(Score.mean()*100, 2)))"
   ]
  },
  {
   "cell_type": "code",
   "execution_count": 7,
   "metadata": {},
   "outputs": [
    {
     "name": "stdout",
     "output_type": "stream",
     "text": [
      "Classifier:  LogisticRegression : 96.55%\n",
      "Classifier:  AdaBoostClassifier : 98.50%\n",
      "Classifier:  RandomForestClassifier : 99.98%\n",
      "Classifier:  KNeighborsClassifier : 94.78%\n"
     ]
    }
   ],
   "source": [
    "# Evaluating the accuracy of classifiers with cross fold validation - Different dataset\n",
    "for key, classifier in Classifiers.items():\n",
    "    classifier.fit(X_train_balanced2, Y_train_balanced2)\n",
    "    Score = cross_val_score(classifier, X_train_balanced2, Y_train_balanced2)\n",
    "    print('Classifier: ', classifier.__class__.__name__, ': {:.2f}%'.format(round(Score.mean()*100, 2)))"
   ]
  },
  {
   "cell_type": "code",
   "execution_count": 5,
   "metadata": {},
   "outputs": [],
   "source": [
    "from sklearn.metrics import confusion_matrix"
   ]
  },
  {
   "cell_type": "code",
   "execution_count": 9,
   "metadata": {},
   "outputs": [
    {
     "name": "stdout",
     "output_type": "stream",
     "text": [
      "\n",
      " Classifier:  LogisticRegression \n",
      "               precision    recall  f1-score   support\n",
      "\n",
      "         0.0       1.00      0.99      0.99     85308\n",
      "         1.0       0.09      0.84      0.16       135\n",
      "\n",
      "    accuracy                           0.99     85443\n",
      "   macro avg       0.55      0.91      0.58     85443\n",
      "weighted avg       1.00      0.99      0.99     85443\n",
      "\n",
      "\n",
      " Confusion Matrix:  LogisticRegression \n",
      " [[84174  1134]\n",
      " [   22   113]]\n",
      "\n",
      " ROC Score:  LogisticRegression \n",
      " 0.9118720140875156\n",
      "\n",
      " Classifier:  AdaBoostClassifier \n",
      "               precision    recall  f1-score   support\n",
      "\n",
      "         0.0       1.00      0.99      0.99     85308\n",
      "         1.0       0.12      0.84      0.20       135\n",
      "\n",
      "    accuracy                           0.99     85443\n",
      "   macro avg       0.56      0.92      0.60     85443\n",
      "weighted avg       1.00      0.99      0.99     85443\n",
      "\n",
      "\n",
      " Confusion Matrix:  AdaBoostClassifier \n",
      " [[84434   874]\n",
      " [   21   114]]\n",
      "\n",
      " ROC Score:  AdaBoostClassifier \n",
      " 0.9170996076960348\n",
      "\n",
      " Classifier:  RandomForestClassifier \n",
      "               precision    recall  f1-score   support\n",
      "\n",
      "         0.0       1.00      1.00      1.00     85308\n",
      "         1.0       0.86      0.81      0.83       135\n",
      "\n",
      "    accuracy                           1.00     85443\n",
      "   macro avg       0.93      0.90      0.92     85443\n",
      "weighted avg       1.00      1.00      1.00     85443\n",
      "\n",
      "\n",
      " Confusion Matrix:  RandomForestClassifier \n",
      " [[85290    18]\n",
      " [   26   109]]\n",
      "\n",
      " ROC Score:  RandomForestClassifier \n",
      " 0.9035982036333703\n",
      "\n",
      " Classifier:  KNeighborsClassifier \n",
      "               precision    recall  f1-score   support\n",
      "\n",
      "         0.0       1.00      0.95      0.97     85308\n",
      "         1.0       0.01      0.44      0.02       135\n",
      "\n",
      "    accuracy                           0.94     85443\n",
      "   macro avg       0.51      0.69      0.50     85443\n",
      "weighted avg       1.00      0.94      0.97     85443\n",
      "\n",
      "\n",
      " Confusion Matrix:  KNeighborsClassifier \n",
      " [[80626  4682]\n",
      " [   76    59]]\n",
      "\n",
      " ROC Score:  KNeighborsClassifier \n",
      " 0.6910767780018027\n"
     ]
    }
   ],
   "source": [
    "# Running the classiffiers\n",
    "for key, classifier in Classifiers.items():\n",
    "    classifier_fitted = classifier.fit(X_train_balanced, Y_train_balanced.ravel())\n",
    "    y_pred = classifier_fitted.predict(X_test)\n",
    "    print('\\n Classifier: ', classifier.__class__.__name__,'\\n', classification_report(Y_test, y_pred))\n",
    "    print('\\n Confusion Matrix: ', classifier.__class__.__name__,'\\n', confusion_matrix(Y_test, y_pred))\n",
    "    print('\\n ROC Score: ', classifier.__class__.__name__, '\\n', roc_auc_score(Y_test,y_pred))"
   ]
  },
  {
   "cell_type": "code",
   "execution_count": 10,
   "metadata": {},
   "outputs": [
    {
     "name": "stdout",
     "output_type": "stream",
     "text": [
      "\n",
      " Classifier:  LogisticRegression \n",
      "               precision    recall  f1-score   support\n",
      "\n",
      "         0.0       1.00      0.99      0.99     85308\n",
      "         1.0       0.09      0.84      0.16       135\n",
      "\n",
      "    accuracy                           0.99     85443\n",
      "   macro avg       0.55      0.91      0.58     85443\n",
      "weighted avg       1.00      0.99      0.99     85443\n",
      "\n",
      "\n",
      " Confusion Matrix:  LogisticRegression \n",
      " [[84172  1136]\n",
      " [   22   113]]\n",
      "\n",
      " ROC Score:  LogisticRegression \n",
      " 0.9118602918574785\n",
      "\n",
      " Classifier:  AdaBoostClassifier \n",
      "               precision    recall  f1-score   support\n",
      "\n",
      "         0.0       1.00      0.99      0.99     85308\n",
      "         1.0       0.12      0.84      0.20       135\n",
      "\n",
      "    accuracy                           0.99     85443\n",
      "   macro avg       0.56      0.91      0.60     85443\n",
      "weighted avg       1.00      0.99      0.99     85443\n",
      "\n",
      "\n",
      " Confusion Matrix:  AdaBoostClassifier \n",
      " [[84453   855]\n",
      " [   22   113]]\n",
      "\n",
      " ROC Score:  AdaBoostClassifier \n",
      " 0.9135072651776829\n",
      "\n",
      " Classifier:  RandomForestClassifier \n",
      "               precision    recall  f1-score   support\n",
      "\n",
      "         0.0       1.00      1.00      1.00     85308\n",
      "         1.0       0.85      0.80      0.82       135\n",
      "\n",
      "    accuracy                           1.00     85443\n",
      "   macro avg       0.93      0.90      0.91     85443\n",
      "weighted avg       1.00      1.00      1.00     85443\n",
      "\n",
      "\n",
      " Confusion Matrix:  RandomForestClassifier \n",
      " [[85289    19]\n",
      " [   27   108]]\n",
      "\n",
      " ROC Score:  RandomForestClassifier \n",
      " 0.8998886388146482\n",
      "\n",
      " Classifier:  KNeighborsClassifier \n",
      "               precision    recall  f1-score   support\n",
      "\n",
      "         0.0       1.00      0.94      0.97     85308\n",
      "         1.0       0.01      0.44      0.02       135\n",
      "\n",
      "    accuracy                           0.94     85443\n",
      "   macro avg       0.51      0.69      0.50     85443\n",
      "weighted avg       1.00      0.94      0.97     85443\n",
      "\n",
      "\n",
      " Confusion Matrix:  KNeighborsClassifier \n",
      " [[80603  4705]\n",
      " [   76    59]]\n",
      "\n",
      " ROC Score:  KNeighborsClassifier \n",
      " 0.6909419723563767\n"
     ]
    }
   ],
   "source": [
    "# Running the classifiers - Different training set\n",
    "for key, classifier in Classifiers.items():\n",
    "    classifier_fitted = classifier.fit(X_train_balanced42, Y_train_balanced42.ravel())\n",
    "    y_pred = classifier_fitted.predict(X_test)\n",
    "    print('\\n Classifier: ', classifier.__class__.__name__,'\\n', classification_report(Y_test, y_pred))\n",
    "    print('\\n Confusion Matrix: ', classifier.__class__.__name__,'\\n', confusion_matrix(Y_test, y_pred))\n",
    "    print('\\n ROC Score: ', classifier.__class__.__name__, '\\n', roc_auc_score(Y_test, y_pred))"
   ]
  },
  {
   "cell_type": "code",
   "execution_count": 6,
   "metadata": {},
   "outputs": [
    {
     "name": "stdout",
     "output_type": "stream",
     "text": [
      "\n",
      " Classifier:  LogisticRegression \n",
      "               precision    recall  f1-score   support\n",
      "\n",
      "         0.0       1.00      0.99      0.99     85308\n",
      "         1.0       0.09      0.84      0.16       135\n",
      "\n",
      "    accuracy                           0.99     85443\n",
      "   macro avg       0.54      0.91      0.58     85443\n",
      "weighted avg       1.00      0.99      0.99     85443\n",
      "\n",
      "\n",
      " Confusion Matrix:  LogisticRegression \n",
      " [[84169  1139]\n",
      " [   22   113]]\n",
      "\n",
      " ROC Score:  LogisticRegression \n",
      " 0.911842708512423\n",
      "\n",
      " Classifier:  AdaBoostClassifier \n",
      "               precision    recall  f1-score   support\n",
      "\n",
      "         0.0       1.00      0.99      0.99     85308\n",
      "         1.0       0.11      0.85      0.20       135\n",
      "\n",
      "    accuracy                           0.99     85443\n",
      "   macro avg       0.55      0.92      0.59     85443\n",
      "weighted avg       1.00      0.99      0.99     85443\n",
      "\n",
      "\n",
      " Confusion Matrix:  AdaBoostClassifier \n",
      " [[84379   929]\n",
      " [   20   115]]\n",
      "\n",
      " ROC Score:  AdaBoostClassifier \n",
      " 0.9204809500737199\n",
      "\n",
      " Classifier:  RandomForestClassifier \n",
      "               precision    recall  f1-score   support\n",
      "\n",
      "         0.0       1.00      1.00      1.00     85308\n",
      "         1.0       0.84      0.81      0.83       135\n",
      "\n",
      "    accuracy                           1.00     85443\n",
      "   macro avg       0.92      0.90      0.91     85443\n",
      "weighted avg       1.00      1.00      1.00     85443\n",
      "\n",
      "\n",
      " Confusion Matrix:  RandomForestClassifier \n",
      " [[85288    20]\n",
      " [   26   109]]\n",
      "\n",
      " ROC Score:  RandomForestClassifier \n",
      " 0.9035864814033333\n",
      "\n",
      " Classifier:  KNeighborsClassifier \n",
      "               precision    recall  f1-score   support\n",
      "\n",
      "         0.0       1.00      0.94      0.97     85308\n",
      "         1.0       0.01      0.42      0.02       135\n",
      "\n",
      "    accuracy                           0.94     85443\n",
      "   macro avg       0.51      0.68      0.50     85443\n",
      "weighted avg       1.00      0.94      0.97     85443\n",
      "\n",
      "\n",
      " Confusion Matrix:  KNeighborsClassifier \n",
      " [[80590  4718]\n",
      " [   78    57]]\n",
      "\n",
      " ROC Score:  KNeighborsClassifier \n",
      " 0.6834583704537285\n"
     ]
    }
   ],
   "source": [
    "# Running the classifiers - Different training set\n",
    "for key, classifier in Classifiers.items():\n",
    "    classifier_fitted = classifier.fit(X_train_balanced2, Y_train_balanced2.ravel())\n",
    "    y_pred = classifier_fitted.predict(X_test)\n",
    "    print('\\n Classifier: ', classifier.__class__.__name__,'\\n', classification_report(Y_test, y_pred))\n",
    "    print('\\n Confusion Matrix: ', classifier.__class__.__name__,'\\n', confusion_matrix(Y_test, y_pred))\n",
    "    print('\\n ROC Score: ', classifier.__class__.__name__, '\\n', roc_auc_score(Y_test, y_pred))"
   ]
  }
 ],
 "metadata": {
  "kernelspec": {
   "display_name": "Python 3",
   "language": "python",
   "name": "python3"
  },
  "language_info": {
   "codemirror_mode": {
    "name": "ipython",
    "version": 3
   },
   "file_extension": ".py",
   "mimetype": "text/x-python",
   "name": "python",
   "nbconvert_exporter": "python",
   "pygments_lexer": "ipython3",
   "version": "3.7.4"
  }
 },
 "nbformat": 4,
 "nbformat_minor": 2
}
